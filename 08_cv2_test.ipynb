{
 "cells": [
  {
   "cell_type": "code",
   "execution_count": null,
   "id": "45783693",
   "metadata": {},
   "outputs": [],
   "source": [
    "import cv2\n"
   ]
  },
  {
   "cell_type": "code",
   "execution_count": null,
   "id": "17b8b860",
   "metadata": {},
   "outputs": [],
   "source": [
    "print(cv2.__version__)"
   ]
  },
  {
   "cell_type": "code",
   "execution_count": null,
   "id": "4ee7aade",
   "metadata": {},
   "outputs": [],
   "source": [
    "path = r\"auto.jpeg\"\n",
    "img = cv2.imread(path, 0)\n",
    "img = cv2.resize(img, (600,400))"
   ]
  },
  {
   "cell_type": "code",
   "execution_count": null,
   "id": "766e733f",
   "metadata": {},
   "outputs": [],
   "source": [
    "cv2.imshow(\"imagine\", img)"
   ]
  },
  {
   "cell_type": "code",
   "execution_count": null,
   "id": "ad6d9e2a",
   "metadata": {},
   "outputs": [],
   "source": [
    "cv2.waitKey(0)\n"
   ]
  },
  {
   "cell_type": "code",
   "execution_count": null,
   "id": "04675e1e",
   "metadata": {},
   "outputs": [],
   "source": [
    "cv2.destroyAllWindows()"
   ]
  },
  {
   "cell_type": "code",
   "execution_count": null,
   "id": "e44ec692",
   "metadata": {},
   "outputs": [],
   "source": []
  }
 ],
 "metadata": {
  "kernelspec": {
   "display_name": "Python 3",
   "language": "python",
   "name": "python3"
  },
  "language_info": {
   "codemirror_mode": {
    "name": "ipython",
    "version": 3
   },
   "file_extension": ".py",
   "mimetype": "text/x-python",
   "name": "python",
   "nbconvert_exporter": "python",
   "pygments_lexer": "ipython3",
   "version": "3.8.8"
  }
 },
 "nbformat": 4,
 "nbformat_minor": 5
}
