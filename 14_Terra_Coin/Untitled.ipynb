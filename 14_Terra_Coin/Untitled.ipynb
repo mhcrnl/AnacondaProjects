{
 "cells": [
  {
   "cell_type": "markdown",
   "id": "9f522664",
   "metadata": {},
   "source": [
    "## https://www.terra.money/"
   ]
  },
  {
   "cell_type": "code",
   "execution_count": 1,
   "id": "05bba9d7",
   "metadata": {},
   "outputs": [
    {
     "name": "stdout",
     "output_type": "stream",
     "text": [
      "{'node_info': {'protocol_version': {'p2p': '8', 'block': '11', 'app': '0'}, 'id': '4605675a9745ff221038e87be0a15730667bc67d', 'listen_addr': 'tcp://0.0.0.0:26656', 'network': 'columbus-5', 'version': '0.34.14', 'channels': '40202122233038606100', 'moniker': 'rpc5-read1', 'other': {'tx_index': 'on', 'rpc_address': 'tcp://0.0.0.0:26657'}}, 'application_version': {'name': 'terra', 'server_name': 'terrad', 'version': '0.5.13-9-g6afef7f1', 'commit': '6afef7f16b502d00f1b4a02ca1eac44417bca8e1', 'build_tags': 'netgo muslc,', 'go': 'go version go1.17.5 linux/amd64', 'build_deps': ['filippo.io/edwards25519@v1.0.0-beta.2', 'github.com/99designs/keyring@v1.1.6 => github.com/cosmos/keyring@v1.1.7-0.20210622111912-ef00f8ac3d76', 'github.com/ChainSafe/go-schnorrkel@v0.0.0-20200405005733-88cbf1b4c40d', 'github.com/CosmWasm/wasmvm@v0.16.2', 'github.com/Workiva/go-datastructures@v1.0.52', 'github.com/armon/go-metrics@v0.3.9', 'github.com/beorn7/perks@v1.0.1', 'github.com/bgentry/speakeasy@v0.1.0', 'github.com/btcsuite/btcd@v0.22.0-beta', 'github.com/cespare/xxhash/v2@v2.1.1', 'github.com/coinbase/rosetta-sdk-go@v0.6.10', 'github.com/confio/ics23/go@v0.6.6', 'github.com/cosmos/btcutil@v1.0.4', 'github.com/cosmos/cosmos-sdk@v0.44.5 => github.com/terra-money/cosmos-sdk@v0.44.5-public', 'github.com/cosmos/go-bip39@v1.0.0', 'github.com/cosmos/iavl@v0.17.3', 'github.com/cosmos/ibc-go@v1.1.3', 'github.com/davecgh/go-spew@v1.1.1', 'github.com/desertbit/timer@v0.0.0-20180107155436-c41aec40b27f', 'github.com/dvsekhvalnov/jose2go@v0.0.0-20200901110807-248326c1351b', 'github.com/felixge/httpsnoop@v1.0.1', 'github.com/fsnotify/fsnotify@v1.5.1', 'github.com/go-kit/kit@v0.10.0', 'github.com/go-logfmt/logfmt@v0.5.0', 'github.com/godbus/dbus@v0.0.0-20190726142602-4481cbc300e2', 'github.com/gogo/gateway@v1.1.0', 'github.com/gogo/protobuf@v1.3.3 => github.com/regen-network/protobuf@v1.3.3-alpha.regen.1', 'github.com/golang/protobuf@v1.5.2', 'github.com/golang/snappy@v0.0.3', 'github.com/google/btree@v1.0.0', 'github.com/google/orderedcode@v0.0.1', 'github.com/gorilla/handlers@v1.5.1', 'github.com/gorilla/mux@v1.8.0', 'github.com/gorilla/websocket@v1.4.2', 'github.com/grpc-ecosystem/go-grpc-middleware@v1.3.0', 'github.com/grpc-ecosystem/grpc-gateway@v1.16.0', 'github.com/gsterjov/go-libsecret@v0.0.0-20161001094733-a6f4afe4910c', 'github.com/gtank/merlin@v0.1.1', 'github.com/gtank/ristretto255@v0.1.2', 'github.com/hashicorp/go-immutable-radix@v1.0.0', 'github.com/hashicorp/golang-lru@v0.5.4', 'github.com/hashicorp/hcl@v1.0.0', 'github.com/hdevalence/ed25519consensus@v0.0.0-20210204194344-59a8610d2b87', 'github.com/improbable-eng/grpc-web@v0.14.1', 'github.com/klauspost/compress@v1.11.7', 'github.com/lib/pq@v1.10.2', 'github.com/libp2p/go-buffer-pool@v0.0.2', 'github.com/magiconair/properties@v1.8.5', 'github.com/mattn/go-isatty@v0.0.14', 'github.com/matttproud/golang_protobuf_extensions@v1.0.1', 'github.com/mimoo/StrobeGo@v0.0.0-20181016162300-f8f6d4d2b643', 'github.com/minio/highwayhash@v1.0.1', 'github.com/mitchellh/mapstructure@v1.4.2', 'github.com/mtibben/percent@v0.2.1', 'github.com/pelletier/go-toml@v1.9.4', 'github.com/pkg/errors@v0.9.1', 'github.com/pmezard/go-difflib@v1.0.0', 'github.com/prometheus/client_golang@v1.11.0', 'github.com/prometheus/client_model@v0.2.0', 'github.com/prometheus/common@v0.29.0', 'github.com/prometheus/procfs@v0.6.0', 'github.com/rakyll/statik@v0.1.7', 'github.com/rcrowley/go-metrics@v0.0.0-20200313005456-10cdbea86bc0', 'github.com/regen-network/cosmos-proto@v0.3.1', 'github.com/rs/cors@v1.7.0', 'github.com/rs/zerolog@v1.23.0', 'github.com/spf13/afero@v1.6.0', 'github.com/spf13/cast@v1.3.1', 'github.com/spf13/cobra@v1.2.1', 'github.com/spf13/jwalterweatherman@v1.1.0', 'github.com/spf13/pflag@v1.0.5', 'github.com/spf13/viper@v1.8.1', 'github.com/stretchr/testify@v1.7.0', 'github.com/subosito/gotenv@v1.2.0', 'github.com/syndtr/goleveldb@v1.0.1-0.20200815110645-5c35d600f0ca', 'github.com/tendermint/btcd@v0.1.1', 'github.com/tendermint/crypto@v0.0.0-20191022145703-50d29ede1e15', 'github.com/tendermint/go-amino@v0.16.0', 'github.com/tendermint/tendermint@v0.34.14 => github.com/terra-money/tendermint@v0.34.14-public', 'github.com/tendermint/tm-db@v0.6.4', 'golang.org/x/crypto@v0.0.0-20210817164053-32db794688a5', 'golang.org/x/net@v0.0.0-20210903162142-ad29c8ab022f', 'golang.org/x/sys@v0.0.0-20210903071746-97244b99971b', 'golang.org/x/term@v0.0.0-20201126162022-7de9c90e9dd1', 'golang.org/x/text@v0.3.6', 'google.golang.org/genproto@v0.0.0-20210828152312-66f60bf46e71', 'google.golang.org/grpc@v1.42.0 => google.golang.org/grpc@v1.33.2', 'google.golang.org/protobuf@v1.27.1', 'gopkg.in/ini.v1@v1.63.2', 'gopkg.in/yaml.v2@v2.4.0', 'gopkg.in/yaml.v3@v3.0.0-20210107192922-496545a6307b', 'nhooyr.io/websocket@v1.8.6'], 'cosmos_sdk_version': 'v0.44.5'}}\n"
     ]
    }
   ],
   "source": [
    "from terra_sdk.client.lcd import LCDClient\n",
    "\n",
    "terra = LCDClient(chain_id=\"columbus-4\", url=\"https://lcd.terra.dev\")\n",
    "print(terra.tendermint.node_info())"
   ]
  },
  {
   "cell_type": "code",
   "execution_count": 3,
   "id": "fc276563",
   "metadata": {},
   "outputs": [
    {
     "data": {
      "text/plain": [
       "'6280039'"
      ]
     },
     "execution_count": 3,
     "metadata": {},
     "output_type": "execute_result"
    }
   ],
   "source": [
    "terra.tendermint.block_info()['block']['header']['height']\n"
   ]
  },
  {
   "cell_type": "code",
   "execution_count": 4,
   "id": "5bd6305e",
   "metadata": {},
   "outputs": [
    {
     "ename": "LCDResponseError",
     "evalue": "Status 501",
     "output_type": "error",
     "traceback": [
      "\u001b[0;31m---------------------------------------------------------------------------\u001b[0m",
      "\u001b[0;31mLCDResponseError\u001b[0m                          Traceback (most recent call last)",
      "\u001b[0;32m<ipython-input-4-602ce0e08e6c>\u001b[0m in \u001b[0;36m<module>\u001b[0;34m\u001b[0m\n\u001b[1;32m      8\u001b[0m     \u001b[0;32mawait\u001b[0m \u001b[0mterra\u001b[0m\u001b[0;34m.\u001b[0m\u001b[0msession\u001b[0m\u001b[0;34m.\u001b[0m\u001b[0mclose\u001b[0m\u001b[0;34m(\u001b[0m\u001b[0;34m)\u001b[0m \u001b[0;31m# you must close the session\u001b[0m\u001b[0;34m\u001b[0m\u001b[0;34m\u001b[0m\u001b[0m\n\u001b[1;32m      9\u001b[0m \u001b[0;34m\u001b[0m\u001b[0m\n\u001b[0;32m---> 10\u001b[0;31m \u001b[0masyncio\u001b[0m\u001b[0;34m.\u001b[0m\u001b[0mget_event_loop\u001b[0m\u001b[0;34m(\u001b[0m\u001b[0;34m)\u001b[0m\u001b[0;34m.\u001b[0m\u001b[0mrun_until_complete\u001b[0m\u001b[0;34m(\u001b[0m\u001b[0mmain\u001b[0m\u001b[0;34m(\u001b[0m\u001b[0;34m)\u001b[0m\u001b[0;34m)\u001b[0m\u001b[0;34m\u001b[0m\u001b[0;34m\u001b[0m\u001b[0m\n\u001b[0m",
      "\u001b[0;32m~/anaconda3/lib/python3.8/site-packages/nest_asyncio.py\u001b[0m in \u001b[0;36mrun_until_complete\u001b[0;34m(self, future)\u001b[0m\n\u001b[1;32m     68\u001b[0m                 raise RuntimeError(\n\u001b[1;32m     69\u001b[0m                     'Event loop stopped before Future completed.')\n\u001b[0;32m---> 70\u001b[0;31m             \u001b[0;32mreturn\u001b[0m \u001b[0mf\u001b[0m\u001b[0;34m.\u001b[0m\u001b[0mresult\u001b[0m\u001b[0;34m(\u001b[0m\u001b[0;34m)\u001b[0m\u001b[0;34m\u001b[0m\u001b[0;34m\u001b[0m\u001b[0m\n\u001b[0m\u001b[1;32m     71\u001b[0m \u001b[0;34m\u001b[0m\u001b[0m\n\u001b[1;32m     72\u001b[0m     \u001b[0;32mdef\u001b[0m \u001b[0m_run_once\u001b[0m\u001b[0;34m(\u001b[0m\u001b[0mself\u001b[0m\u001b[0;34m)\u001b[0m\u001b[0;34m:\u001b[0m\u001b[0;34m\u001b[0m\u001b[0;34m\u001b[0m\u001b[0m\n",
      "\u001b[0;32m~/anaconda3/lib/python3.8/asyncio/futures.py\u001b[0m in \u001b[0;36mresult\u001b[0;34m(self)\u001b[0m\n\u001b[1;32m    176\u001b[0m         \u001b[0mself\u001b[0m\u001b[0;34m.\u001b[0m\u001b[0m__log_traceback\u001b[0m \u001b[0;34m=\u001b[0m \u001b[0;32mFalse\u001b[0m\u001b[0;34m\u001b[0m\u001b[0;34m\u001b[0m\u001b[0m\n\u001b[1;32m    177\u001b[0m         \u001b[0;32mif\u001b[0m \u001b[0mself\u001b[0m\u001b[0;34m.\u001b[0m\u001b[0m_exception\u001b[0m \u001b[0;32mis\u001b[0m \u001b[0;32mnot\u001b[0m \u001b[0;32mNone\u001b[0m\u001b[0;34m:\u001b[0m\u001b[0;34m\u001b[0m\u001b[0;34m\u001b[0m\u001b[0m\n\u001b[0;32m--> 178\u001b[0;31m             \u001b[0;32mraise\u001b[0m \u001b[0mself\u001b[0m\u001b[0;34m.\u001b[0m\u001b[0m_exception\u001b[0m\u001b[0;34m\u001b[0m\u001b[0;34m\u001b[0m\u001b[0m\n\u001b[0m\u001b[1;32m    179\u001b[0m         \u001b[0;32mreturn\u001b[0m \u001b[0mself\u001b[0m\u001b[0;34m.\u001b[0m\u001b[0m_result\u001b[0m\u001b[0;34m\u001b[0m\u001b[0;34m\u001b[0m\u001b[0m\n\u001b[1;32m    180\u001b[0m \u001b[0;34m\u001b[0m\u001b[0m\n",
      "\u001b[0;32m~/anaconda3/lib/python3.8/asyncio/tasks.py\u001b[0m in \u001b[0;36m__step\u001b[0;34m(***failed resolving arguments***)\u001b[0m\n\u001b[1;32m    278\u001b[0m                 \u001b[0;31m# We use the `send` method directly, because coroutines\u001b[0m\u001b[0;34m\u001b[0m\u001b[0;34m\u001b[0m\u001b[0;34m\u001b[0m\u001b[0m\n\u001b[1;32m    279\u001b[0m                 \u001b[0;31m# don't have `__iter__` and `__next__` methods.\u001b[0m\u001b[0;34m\u001b[0m\u001b[0;34m\u001b[0m\u001b[0;34m\u001b[0m\u001b[0m\n\u001b[0;32m--> 280\u001b[0;31m                 \u001b[0mresult\u001b[0m \u001b[0;34m=\u001b[0m \u001b[0mcoro\u001b[0m\u001b[0;34m.\u001b[0m\u001b[0msend\u001b[0m\u001b[0;34m(\u001b[0m\u001b[0;32mNone\u001b[0m\u001b[0;34m)\u001b[0m\u001b[0;34m\u001b[0m\u001b[0;34m\u001b[0m\u001b[0m\n\u001b[0m\u001b[1;32m    281\u001b[0m             \u001b[0;32melse\u001b[0m\u001b[0;34m:\u001b[0m\u001b[0;34m\u001b[0m\u001b[0;34m\u001b[0m\u001b[0m\n\u001b[1;32m    282\u001b[0m                 \u001b[0mresult\u001b[0m \u001b[0;34m=\u001b[0m \u001b[0mcoro\u001b[0m\u001b[0;34m.\u001b[0m\u001b[0mthrow\u001b[0m\u001b[0;34m(\u001b[0m\u001b[0mexc\u001b[0m\u001b[0;34m)\u001b[0m\u001b[0;34m\u001b[0m\u001b[0;34m\u001b[0m\u001b[0m\n",
      "\u001b[0;32m<ipython-input-4-602ce0e08e6c>\u001b[0m in \u001b[0;36mmain\u001b[0;34m()\u001b[0m\n\u001b[1;32m      4\u001b[0m \u001b[0;32masync\u001b[0m \u001b[0;32mdef\u001b[0m \u001b[0mmain\u001b[0m\u001b[0;34m(\u001b[0m\u001b[0;34m)\u001b[0m\u001b[0;34m:\u001b[0m\u001b[0;34m\u001b[0m\u001b[0;34m\u001b[0m\u001b[0m\n\u001b[1;32m      5\u001b[0m     \u001b[0mterra\u001b[0m \u001b[0;34m=\u001b[0m \u001b[0mAsyncLCDClient\u001b[0m\u001b[0;34m(\u001b[0m\u001b[0;34m\"https://lcd.terra.dev\"\u001b[0m\u001b[0;34m,\u001b[0m \u001b[0;34m\"columbus-4\"\u001b[0m\u001b[0;34m)\u001b[0m\u001b[0;34m\u001b[0m\u001b[0;34m\u001b[0m\u001b[0m\n\u001b[0;32m----> 6\u001b[0;31m     \u001b[0mtotal_supply\u001b[0m \u001b[0;34m=\u001b[0m \u001b[0;32mawait\u001b[0m \u001b[0mterra\u001b[0m\u001b[0;34m.\u001b[0m\u001b[0msupply\u001b[0m\u001b[0;34m.\u001b[0m\u001b[0mtotal\u001b[0m\u001b[0;34m(\u001b[0m\u001b[0;34m)\u001b[0m\u001b[0;34m\u001b[0m\u001b[0;34m\u001b[0m\u001b[0m\n\u001b[0m\u001b[1;32m      7\u001b[0m     \u001b[0mprint\u001b[0m\u001b[0;34m(\u001b[0m\u001b[0mtotal_supply\u001b[0m\u001b[0;34m)\u001b[0m\u001b[0;34m\u001b[0m\u001b[0;34m\u001b[0m\u001b[0m\n\u001b[1;32m      8\u001b[0m     \u001b[0;32mawait\u001b[0m \u001b[0mterra\u001b[0m\u001b[0;34m.\u001b[0m\u001b[0msession\u001b[0m\u001b[0;34m.\u001b[0m\u001b[0mclose\u001b[0m\u001b[0;34m(\u001b[0m\u001b[0;34m)\u001b[0m \u001b[0;31m# you must close the session\u001b[0m\u001b[0;34m\u001b[0m\u001b[0;34m\u001b[0m\u001b[0m\n",
      "\u001b[0;32m~/anaconda3/lib/python3.8/site-packages/terra_sdk/client/lcd/api/supply.py\u001b[0m in \u001b[0;36mtotal\u001b[0;34m(self)\u001b[0m\n\u001b[1;32m     13\u001b[0m             \u001b[0mCoins\u001b[0m\u001b[0;34m:\u001b[0m \u001b[0mtotal\u001b[0m \u001b[0msupply\u001b[0m\u001b[0;34m\u001b[0m\u001b[0;34m\u001b[0m\u001b[0m\n\u001b[1;32m     14\u001b[0m         \"\"\"\n\u001b[0;32m---> 15\u001b[0;31m         \u001b[0mres\u001b[0m \u001b[0;34m=\u001b[0m \u001b[0;32mawait\u001b[0m \u001b[0mself\u001b[0m\u001b[0;34m.\u001b[0m\u001b[0m_c\u001b[0m\u001b[0;34m.\u001b[0m\u001b[0m_get\u001b[0m\u001b[0;34m(\u001b[0m\u001b[0;34m\"/supply/total\"\u001b[0m\u001b[0;34m)\u001b[0m\u001b[0;34m\u001b[0m\u001b[0;34m\u001b[0m\u001b[0m\n\u001b[0m\u001b[1;32m     16\u001b[0m         \u001b[0;32mreturn\u001b[0m \u001b[0mCoins\u001b[0m\u001b[0;34m.\u001b[0m\u001b[0mfrom_data\u001b[0m\u001b[0;34m(\u001b[0m\u001b[0mres\u001b[0m\u001b[0;34m)\u001b[0m\u001b[0;34m\u001b[0m\u001b[0;34m\u001b[0m\u001b[0m\n\u001b[1;32m     17\u001b[0m \u001b[0;34m\u001b[0m\u001b[0m\n",
      "\u001b[0;32m~/anaconda3/lib/python3.8/site-packages/terra_sdk/client/lcd/lcdclient.py\u001b[0m in \u001b[0;36m_get\u001b[0;34m(self, endpoint, params, raw)\u001b[0m\n\u001b[1;32m     93\u001b[0m                 \u001b[0;32mraise\u001b[0m \u001b[0mLCDResponseError\u001b[0m\u001b[0;34m(\u001b[0m\u001b[0mmessage\u001b[0m\u001b[0;34m=\u001b[0m\u001b[0mstr\u001b[0m\u001b[0;34m(\u001b[0m\u001b[0mresponse\u001b[0m\u001b[0;34m.\u001b[0m\u001b[0mreason\u001b[0m\u001b[0;34m)\u001b[0m\u001b[0;34m,\u001b[0m \u001b[0mresponse\u001b[0m\u001b[0;34m=\u001b[0m\u001b[0mresponse\u001b[0m\u001b[0;34m)\u001b[0m\u001b[0;34m\u001b[0m\u001b[0;34m\u001b[0m\u001b[0m\n\u001b[1;32m     94\u001b[0m             \u001b[0;32mif\u001b[0m \u001b[0;32mnot\u001b[0m \u001b[0;36m200\u001b[0m \u001b[0;34m<=\u001b[0m \u001b[0mresponse\u001b[0m\u001b[0;34m.\u001b[0m\u001b[0mstatus\u001b[0m \u001b[0;34m<\u001b[0m \u001b[0;36m299\u001b[0m\u001b[0;34m:\u001b[0m\u001b[0;34m\u001b[0m\u001b[0;34m\u001b[0m\u001b[0m\n\u001b[0;32m---> 95\u001b[0;31m                 \u001b[0;32mraise\u001b[0m \u001b[0mLCDResponseError\u001b[0m\u001b[0;34m(\u001b[0m\u001b[0mmessage\u001b[0m\u001b[0;34m=\u001b[0m\u001b[0mresult\u001b[0m\u001b[0;34m.\u001b[0m\u001b[0mget\u001b[0m\u001b[0;34m(\u001b[0m\u001b[0;34m\"error\"\u001b[0m\u001b[0;34m)\u001b[0m\u001b[0;34m,\u001b[0m \u001b[0mresponse\u001b[0m\u001b[0;34m=\u001b[0m\u001b[0mresponse\u001b[0m\u001b[0;34m)\u001b[0m\u001b[0;34m\u001b[0m\u001b[0;34m\u001b[0m\u001b[0m\n\u001b[0m\u001b[1;32m     96\u001b[0m         \u001b[0mself\u001b[0m\u001b[0;34m.\u001b[0m\u001b[0mlast_request_height\u001b[0m \u001b[0;34m=\u001b[0m \u001b[0mresult\u001b[0m\u001b[0;34m.\u001b[0m\u001b[0mget\u001b[0m\u001b[0;34m(\u001b[0m\u001b[0;34m\"height\"\u001b[0m\u001b[0;34m)\u001b[0m\u001b[0;34m\u001b[0m\u001b[0;34m\u001b[0m\u001b[0m\n\u001b[1;32m     97\u001b[0m         \u001b[0;32mreturn\u001b[0m \u001b[0mresult\u001b[0m \u001b[0;32mif\u001b[0m \u001b[0mraw\u001b[0m \u001b[0;32melse\u001b[0m \u001b[0mresult\u001b[0m\u001b[0;34m[\u001b[0m\u001b[0;34m\"result\"\u001b[0m\u001b[0;34m]\u001b[0m\u001b[0;34m\u001b[0m\u001b[0;34m\u001b[0m\u001b[0m\n",
      "\u001b[0;31mLCDResponseError\u001b[0m: Status 501"
     ]
    }
   ],
   "source": [
    "import asyncio\n",
    "from terra_sdk.client.lcd import AsyncLCDClient\n",
    "\n",
    "async def main():\n",
    "    terra = AsyncLCDClient(\"https://lcd.terra.dev\", \"columbus-4\")\n",
    "    total_supply = await terra.supply.total()\n",
    "    print(total_supply)\n",
    "    await terra.session.close() # you must close the session\n",
    "\n",
    "asyncio.get_event_loop().run_until_complete(main())\n"
   ]
  },
  {
   "cell_type": "code",
   "execution_count": 5,
   "id": "00793ae9",
   "metadata": {},
   "outputs": [
    {
     "data": {
      "text/plain": [
       "Dec('0')"
      ]
     },
     "execution_count": 5,
     "metadata": {},
     "output_type": "execute_result"
    }
   ],
   "source": [
    "terra.treasury.tax_rate()"
   ]
  },
  {
   "cell_type": "code",
   "execution_count": null,
   "id": "aa2eb0ee",
   "metadata": {},
   "outputs": [],
   "source": []
  }
 ],
 "metadata": {
  "kernelspec": {
   "display_name": "Python 3",
   "language": "python",
   "name": "python3"
  },
  "language_info": {
   "codemirror_mode": {
    "name": "ipython",
    "version": 3
   },
   "file_extension": ".py",
   "mimetype": "text/x-python",
   "name": "python",
   "nbconvert_exporter": "python",
   "pygments_lexer": "ipython3",
   "version": "3.8.8"
  }
 },
 "nbformat": 4,
 "nbformat_minor": 5
}
