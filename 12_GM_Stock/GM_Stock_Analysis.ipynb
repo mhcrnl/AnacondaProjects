{
 "cells": [
  {
   "cell_type": "markdown",
   "id": "7f83446a",
   "metadata": {},
   "source": [
    "# GM Stock Analysis\n",
    "## General Motors Company (GM)"
   ]
  },
  {
   "cell_type": "code",
   "execution_count": 1,
   "id": "00da95c3",
   "metadata": {},
   "outputs": [
    {
     "data": {
      "text/plain": [
       "25663130"
      ]
     },
     "execution_count": 1,
     "metadata": {},
     "output_type": "execute_result"
    }
   ],
   "source": [
    "import requests\n",
    "\n",
    "url = \"https://www.gmsustainability.com/_pdf/resources-and-downloads/GM_2020_SR.pdf\"\n",
    "\n",
    "r = requests.get(url, allow_redirects=True)\n",
    "\n",
    "open(\"GM_2020_SR.pdf\", \"wb\").write(r.content)"
   ]
  },
  {
   "cell_type": "code",
   "execution_count": 2,
   "id": "789cbefc",
   "metadata": {},
   "outputs": [],
   "source": [
    "from yahoofinancials import YahooFinancials"
   ]
  },
  {
   "cell_type": "code",
   "execution_count": 3,
   "id": "eb1e4a26",
   "metadata": {},
   "outputs": [],
   "source": [
    "ticker = 'GM'\n",
    "yahoo_financials = YahooFinancials(ticker)"
   ]
  },
  {
   "cell_type": "code",
   "execution_count": 4,
   "id": "b09b23c9",
   "metadata": {},
   "outputs": [],
   "source": [
    "balance_sheet_data_qt = yahoo_financials.get_financial_stmts('quarterly', 'balance')"
   ]
  },
  {
   "cell_type": "code",
   "execution_count": 6,
   "id": "769ccbf4",
   "metadata": {},
   "outputs": [
    {
     "name": "stdout",
     "output_type": "stream",
     "text": [
      "{'balanceSheetHistoryQuarterly': {'GM': [{'2021-09-30': {'intangibleAssets': 3786000000, 'capitalSurplus': 26926000000, 'totalLiab': 178236000000, 'totalStockholderEquity': 54150000000, 'minorityInterest': 6171000000, 'otherCurrentLiab': 6037000000, 'totalAssets': 238557000000, 'commonStock': 15000000, 'otherCurrentAssets': 3949000000, 'retainedEarnings': 40212000000, 'otherLiab': 31176000000, 'treasuryStock': -13003000000, 'otherAssets': 30488000000, 'cash': 12465000000, 'totalCurrentLiabilities': 71951000000, 'deferredLongTermAssetCharges': 22245000000, 'otherStockholderEquity': -13003000000, 'propertyPlantEquipment': 39637000000, 'totalCurrentAssets': 77791000000, 'longTermInvestments': 7585000000, 'netTangibleAssets': 49024000000, 'shortTermInvestments': 6575000000, 'netReceivables': 8091000000, 'longTermDebt': 16058000000, 'inventory': 14534000000, 'accountsPayable': 18648000000}}, {'2021-06-30': {'intangibleAssets': 3824000000, 'capitalSurplus': 26844000000, 'totalLiab': 183927000000, 'totalStockholderEquity': 51669000000, 'minorityInterest': 6207000000, 'otherCurrentLiab': 5999000000, 'totalAssets': 241803000000, 'commonStock': 15000000, 'otherCurrentAssets': 4574000000, 'retainedEarnings': 37806000000, 'otherLiab': 31439000000, 'treasuryStock': -12996000000, 'otherAssets': 28964000000, 'cash': 18520000000, 'totalCurrentLiabilities': 74811000000, 'deferredLongTermAssetCharges': 22408000000, 'otherStockholderEquity': -12996000000, 'propertyPlantEquipment': 38822000000, 'totalCurrentAssets': 82609000000, 'longTermInvestments': 7178000000, 'netTangibleAssets': 46500000000, 'shortTermInvestments': 6211000000, 'netReceivables': 8167000000, 'longTermDebt': 16105000000, 'inventory': 13102000000, 'accountsPayable': 21431000000}}, {'2021-03-31': {'intangibleAssets': 3846000000, 'capitalSurplus': 26667000000, 'totalLiab': 183968000000, 'totalStockholderEquity': 48343000000, 'minorityInterest': 6100000000, 'otherCurrentLiab': 6217000000, 'totalAssets': 238411000000, 'commonStock': 14000000, 'otherCurrentAssets': 4448000000, 'retainedEarnings': 34988000000, 'otherLiab': 30521000000, 'treasuryStock': -13326000000, 'otherAssets': 29012000000, 'cash': 15309000000, 'totalCurrentLiabilities': 76323000000, 'deferredLongTermAssetCharges': 23090000000, 'otherStockholderEquity': -13326000000, 'propertyPlantEquipment': 37797000000, 'totalCurrentAssets': 82091000000, 'longTermInvestments': 7349000000, 'netTangibleAssets': 43158000000, 'shortTermInvestments': 7771000000, 'netReceivables': 9126000000, 'longTermDebt': 16124000000, 'inventory': 12066000000, 'accountsPayable': 20446000000}}, {'2020-12-31': {'intangibleAssets': 3887000000, 'capitalSurplus': 26542000000, 'totalLiab': 185517000000, 'totalStockholderEquity': 45030000000, 'minorityInterest': 4647000000, 'otherCurrentLiab': 6180000000, 'totalAssets': 235194000000, 'commonStock': 14000000, 'otherCurrentAssets': 5217000000, 'retainedEarnings': 31962000000, 'otherLiab': 31657000000, 'treasuryStock': -13488000000, 'otherAssets': 28997000000, 'cash': 14892000000, 'totalCurrentLiabilities': 79910000000, 'deferredLongTermAssetCharges': 24136000000, 'otherStockholderEquity': -13488000000, 'propertyPlantEquipment': 38632000000, 'totalCurrentAssets': 80924000000, 'longTermInvestments': 6825000000, 'netTangibleAssets': 39800000000, 'shortTermInvestments': 9046000000, 'netReceivables': 8035000000, 'longTermDebt': 15956000000, 'inventory': 10235000000, 'accountsPayable': 19928000000}}]}}\n"
     ]
    }
   ],
   "source": [
    "print(balance_sheet_data_qt)"
   ]
  },
  {
   "cell_type": "code",
   "execution_count": 7,
   "id": "d5417ecd",
   "metadata": {},
   "outputs": [
    {
     "data": {
      "text/plain": [
       "122485000000"
      ]
     },
     "execution_count": 7,
     "metadata": {},
     "output_type": "execute_result"
    }
   ],
   "source": [
    "yahoo_financials.get_total_revenue()"
   ]
  },
  {
   "cell_type": "code",
   "execution_count": 9,
   "id": "3431d430",
   "metadata": {},
   "outputs": [
    {
     "name": "stdout",
     "output_type": "stream",
     "text": [
      "None\n"
     ]
    }
   ],
   "source": [
    "print(yahoo_financials.get_five_yr_avg_div_yield())"
   ]
  },
  {
   "cell_type": "code",
   "execution_count": 10,
   "id": "4b4db960",
   "metadata": {},
   "outputs": [
    {
     "data": {
      "text/plain": [
       "7.472000487444532"
      ]
     },
     "execution_count": 10,
     "metadata": {},
     "output_type": "execute_result"
    }
   ],
   "source": [
    "yahoo_financials.get_earnings_per_share()"
   ]
  },
  {
   "cell_type": "code",
   "execution_count": 11,
   "id": "1492ecd1",
   "metadata": {},
   "outputs": [
    {
     "data": {
      "text/plain": [
       "14502000000"
      ]
     },
     "execution_count": 11,
     "metadata": {},
     "output_type": "execute_result"
    }
   ],
   "source": [
    "yahoo_financials.get_gross_profit()"
   ]
  }
 ],
 "metadata": {
  "kernelspec": {
   "display_name": "Python 3",
   "language": "python",
   "name": "python3"
  },
  "language_info": {
   "codemirror_mode": {
    "name": "ipython",
    "version": 3
   },
   "file_extension": ".py",
   "mimetype": "text/x-python",
   "name": "python",
   "nbconvert_exporter": "python",
   "pygments_lexer": "ipython3",
   "version": "3.8.8"
  }
 },
 "nbformat": 4,
 "nbformat_minor": 5
}
