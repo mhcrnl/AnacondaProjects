{
 "cells": [
  {
   "cell_type": "markdown",
   "id": "590677ee",
   "metadata": {},
   "source": [
    "# Stock Market Data Analysis\n",
    "\n",
    "### Resurse:\n",
    "[Stocker](https://github.com/bobbruno/stocker)"
   ]
  },
  {
   "cell_type": "code",
   "execution_count": 3,
   "id": "139f6c49",
   "metadata": {
    "scrolled": true
   },
   "outputs": [
    {
     "name": "stdout",
     "output_type": "stream",
     "text": [
      "Collecting stocker\n",
      "  Downloading stocker-0.1.11-py3-none-any.whl (8.0 kB)\n",
      "Collecting yfinance\n",
      "  Downloading yfinance-0.1.65.tar.gz (26 kB)\n",
      "Requirement already satisfied: matplotlib in /home/mhcrnl/anaconda3/lib/python3.8/site-packages (from stocker) (3.3.4)\n",
      "Requirement already satisfied: numpy in /home/mhcrnl/anaconda3/lib/python3.8/site-packages (from stocker) (1.20.1)\n",
      "Requirement already satisfied: requests in /home/mhcrnl/anaconda3/lib/python3.8/site-packages (from stocker) (2.25.1)\n",
      "Collecting pytrends\n",
      "  Downloading pytrends-4.7.3-py3-none-any.whl (14 kB)\n",
      "Requirement already satisfied: scikit-learn in /home/mhcrnl/anaconda3/lib/python3.8/site-packages (from stocker) (0.24.1)\n",
      "Collecting tensorflow\n",
      "  Downloading tensorflow-2.7.0-cp38-cp38-manylinux2010_x86_64.whl (489.6 MB)\n",
      "\u001b[K     |████████████████████████████████| 489.6 MB 75 kB/s eta 0:00:0111    |███████                         | 107.6 MB 199 kB/s eta 0:31:56     |████████████████████▍           | 312.4 MB 23.7 MB/s eta 0:00:08█████▍        | 358.5 MB 147 kB/s eta 0:14:51�███████████▊       | 378.3 MB 36 kB/s eta 0:51:19     |█████████████████████████████   | 442.6 MB 197 kB/s eta 0:03:58Collecting tensorboard~=2.6\n",
      "  Downloading tensorboard-2.7.0-py3-none-any.whl (5.8 MB)\n",
      "\u001b[K     |████████████████████████████████| 5.8 MB 17.9 MB/s eta 0:00:01\n",
      "\u001b[?25hCollecting google-auth<3,>=1.6.3\n",
      "  Downloading google_auth-2.3.3-py2.py3-none-any.whl (155 kB)\n",
      "\u001b[K     |████████████████████████████████| 155 kB 32.6 MB/s eta 0:00:01\n",
      "\u001b[?25hCollecting tensorboard-plugin-wit>=1.6.0\n",
      "  Downloading tensorboard_plugin_wit-1.8.0-py3-none-any.whl (781 kB)\n",
      "\u001b[K     |████████████████████████████████| 781 kB 23.9 MB/s eta 0:00:01\n",
      "\u001b[?25hCollecting google-auth-oauthlib<0.5,>=0.4.1\n",
      "  Downloading google_auth_oauthlib-0.4.6-py2.py3-none-any.whl (18 kB)\n",
      "Collecting markdown>=2.6.8\n",
      "  Downloading Markdown-3.3.4-py3-none-any.whl (97 kB)\n",
      "\u001b[K     |████████████████████████████████| 97 kB 522 kB/s  eta 0:00:01\n",
      "\u001b[?25hRequirement already satisfied: werkzeug>=0.11.15 in /home/mhcrnl/anaconda3/lib/python3.8/site-packages (from tensorboard~=2.6->tensorflow->stocker) (1.0.1)\n",
      "Collecting tensorboard-data-server<0.7.0,>=0.6.0\n",
      "  Downloading tensorboard_data_server-0.6.1-py3-none-manylinux2010_x86_64.whl (4.9 MB)\n",
      "\u001b[K     |████████████████████████████████| 4.9 MB 24.1 MB/s eta 0:00:01\n",
      "\u001b[?25hRequirement already satisfied: setuptools>=41.0.0 in /home/mhcrnl/anaconda3/lib/python3.8/site-packages (from tensorboard~=2.6->tensorflow->stocker) (52.0.0.post20210125)\n",
      "Collecting cachetools<5.0,>=2.0.0\n",
      "  Downloading cachetools-4.2.4-py3-none-any.whl (10 kB)\n",
      "Collecting rsa<5,>=3.1.4\n",
      "  Downloading rsa-4.7.2-py3-none-any.whl (34 kB)\n",
      "Collecting pyasn1-modules>=0.2.1\n",
      "  Downloading pyasn1_modules-0.2.8-py2.py3-none-any.whl (155 kB)\n",
      "\u001b[K     |████████████████████████████████| 155 kB 24.9 MB/s eta 0:00:01\n",
      "\u001b[?25hCollecting requests-oauthlib>=0.7.0\n",
      "  Downloading requests_oauthlib-1.3.0-py2.py3-none-any.whl (23 kB)\n",
      "Collecting pyasn1<0.5.0,>=0.4.6\n",
      "  Downloading pyasn1-0.4.8-py2.py3-none-any.whl (77 kB)\n",
      "\u001b[K     |████████████████████████████████| 77 kB 512 kB/s  eta 0:00:01\n",
      "\u001b[?25hCollecting oauthlib>=3.0.0\n",
      "  Downloading oauthlib-3.1.1-py2.py3-none-any.whl (146 kB)\n",
      "\u001b[K     |████████████████████████████████| 146 kB 11.3 MB/s eta 0:00:01\n",
      "\u001b[?25hCollecting multitasking>=0.0.7\n",
      "  Downloading multitasking-0.0.9.tar.gz (8.1 kB)\n",
      "Building wheels for collected packages: termcolor, yfinance, multitasking\n",
      "  Building wheel for termcolor (setup.py) ... \u001b[?25ldone\n",
      "\u001b[?25h  Created wheel for termcolor: filename=termcolor-1.1.0-py3-none-any.whl size=4829 sha256=857da4c613a9d4a499c7acd21e2558e18682e19ba6b535725f8a4cdda4d435d7\n",
      "  Stored in directory: /home/mhcrnl/.cache/pip/wheels/a0/16/9c/5473df82468f958445479c59e784896fa24f4a5fc024b0f501\n",
      "  Building wheel for yfinance (setup.py) ... \u001b[?25ldone\n",
      "\u001b[?25h  Created wheel for yfinance: filename=yfinance-0.1.65-py2.py3-none-any.whl size=25174 sha256=188f1e8e02a0b8c3d73d600444da9d139ee24156e8de5fefe7677d506c7bc7f8\n",
      "  Stored in directory: /home/mhcrnl/.cache/pip/wheels/6e/40/0b/af2bd753da24a380f88a11fa548bbb713421c40c2b1ca3f08a\n",
      "  Building wheel for multitasking (setup.py) ... \u001b[?25ldone\n",
      "\u001b[?25h  Created wheel for multitasking: filename=multitasking-0.0.9-py3-none-any.whl size=8368 sha256=de97341432644d1e569683905fb6170b78d78ca53663b707014f7f3833fb9f3e\n",
      "  Stored in directory: /home/mhcrnl/.cache/pip/wheels/57/6d/a3/a39b839cc75274d2acfb1c58bfead2f726c6577fe8c4723f13\n",
      "Successfully built termcolor yfinance multitasking\n",
      "Installing collected packages: pyasn1, rsa, pyasn1-modules, oauthlib, cachetools, requests-oauthlib, google-auth, tensorboard-plugin-wit, tensorboard-data-server, protobuf, markdown, grpcio, google-auth-oauthlib, absl-py, termcolor, tensorflow-io-gcs-filesystem, tensorflow-estimator, tensorboard, opt-einsum, multitasking, libclang, keras-preprocessing, keras, google-pasta, gast, flatbuffers, astunparse, yfinance, tensorflow, pytrends, stocker\n",
      "Successfully installed absl-py-1.0.0 astunparse-1.6.3 cachetools-4.2.4 flatbuffers-2.0 gast-0.4.0 google-auth-2.3.3 google-auth-oauthlib-0.4.6 google-pasta-0.2.0 grpcio-1.41.1 keras-2.7.0 keras-preprocessing-1.1.2 libclang-12.0.0 markdown-3.3.4 multitasking-0.0.9 oauthlib-3.1.1 opt-einsum-3.3.0 protobuf-3.19.1 pyasn1-0.4.8 pyasn1-modules-0.2.8 pytrends-4.7.3 requests-oauthlib-1.3.0 rsa-4.7.2 stocker-0.1.11 tensorboard-2.7.0 tensorboard-data-server-0.6.1 tensorboard-plugin-wit-1.8.0 tensorflow-2.7.0 tensorflow-estimator-2.7.0 tensorflow-io-gcs-filesystem-0.22.0 termcolor-1.1.0 yfinance-0.1.65\n",
      "Note: you may need to restart the kernel to use updated packages.\n"
     ]
    }
   ],
   "source": [
    "pip install stocker\n"
   ]
  },
  {
   "cell_type": "code",
   "execution_count": 18,
   "id": "be3781e7",
   "metadata": {},
   "outputs": [],
   "source": [
    "import stocker\n",
    "from stocker.predict import tomorrow\n",
    "from stocker import get_data"
   ]
  },
  {
   "cell_type": "code",
   "execution_count": 14,
   "id": "230f7b84",
   "metadata": {},
   "outputs": [
    {
     "name": "stdout",
     "output_type": "stream",
     "text": [
      "Salut, Anaconda\n",
      "[*********************100%***********************]  1 of 1 completed\n"
     ]
    },
    {
     "data": {
      "text/plain": [
       "[149.97, 0.865, '2021-11-15']"
      ]
     },
     "execution_count": 14,
     "metadata": {},
     "output_type": "execute_result"
    }
   ],
   "source": [
    "print(\"Salut, Anaconda\")\n",
    "stocker.predict.tomorrow(\"AAPL\")"
   ]
  },
  {
   "cell_type": "code",
   "execution_count": 20,
   "id": "034e54aa",
   "metadata": {},
   "outputs": [],
   "source": [
    "stock = \"MSFT\""
   ]
  },
  {
   "cell_type": "code",
   "execution_count": 21,
   "id": "582d0f2e",
   "metadata": {},
   "outputs": [
    {
     "name": "stdout",
     "output_type": "stream",
     "text": [
      "[*********************100%***********************]  1 of 1 completed\n",
      "[342.54, 1.159, '2021-11-15']\n"
     ]
    }
   ],
   "source": [
    "print(tomorrow(stock))"
   ]
  },
  {
   "cell_type": "code",
   "execution_count": 22,
   "id": "97abee4f",
   "metadata": {},
   "outputs": [
    {
     "name": "stdout",
     "output_type": "stream",
     "text": [
      "None\n"
     ]
    }
   ],
   "source": [
    "print (get_data.company_name(stock))"
   ]
  },
  {
   "cell_type": "code",
   "execution_count": 23,
   "id": "4a7d1123",
   "metadata": {},
   "outputs": [
    {
     "ename": "NameError",
     "evalue": "name 'timeframe' is not defined",
     "output_type": "error",
     "traceback": [
      "\u001b[0;31m---------------------------------------------------------------------------\u001b[0m",
      "\u001b[0;31mNameError\u001b[0m                                 Traceback (most recent call last)",
      "\u001b[0;32m<ipython-input-23-bb5668f659b0>\u001b[0m in \u001b[0;36m<module>\u001b[0;34m\u001b[0m\n\u001b[0;32m----> 1\u001b[0;31m \u001b[0mprint\u001b[0m\u001b[0;34m(\u001b[0m\u001b[0mget_data\u001b[0m\u001b[0;34m.\u001b[0m\u001b[0mget_interest\u001b[0m\u001b[0;34m(\u001b[0m\u001b[0mstock\u001b[0m\u001b[0;34m,\u001b[0m \u001b[0mtimeframe\u001b[0m\u001b[0;34m)\u001b[0m\u001b[0;34m)\u001b[0m\u001b[0;34m\u001b[0m\u001b[0;34m\u001b[0m\u001b[0m\n\u001b[0m",
      "\u001b[0;31mNameError\u001b[0m: name 'timeframe' is not defined"
     ]
    }
   ],
   "source": [
    "print(get_data.get_interest(stock, timeframe))"
   ]
  },
  {
   "cell_type": "code",
   "execution_count": 1,
   "id": "8d551fb0",
   "metadata": {},
   "outputs": [
    {
     "ename": "ImportError",
     "evalue": "cannot import name 'Stocker' from 'stocker' (/home/mhcrnl/anaconda3/lib/python3.8/site-packages/stocker/__init__.py)",
     "output_type": "error",
     "traceback": [
      "\u001b[0;31m---------------------------------------------------------------------------\u001b[0m",
      "\u001b[0;31mImportError\u001b[0m                               Traceback (most recent call last)",
      "\u001b[0;32m<ipython-input-1-9e12cbc46e45>\u001b[0m in \u001b[0;36m<module>\u001b[0;34m\u001b[0m\n\u001b[0;32m----> 1\u001b[0;31m \u001b[0;32mfrom\u001b[0m \u001b[0mstocker\u001b[0m \u001b[0;32mimport\u001b[0m \u001b[0mStocker\u001b[0m\u001b[0;34m\u001b[0m\u001b[0;34m\u001b[0m\u001b[0m\n\u001b[0m",
      "\u001b[0;31mImportError\u001b[0m: cannot import name 'Stocker' from 'stocker' (/home/mhcrnl/anaconda3/lib/python3.8/site-packages/stocker/__init__.py)"
     ]
    }
   ],
   "source": [
    "from stocker import Stocker\n"
   ]
  },
  {
   "cell_type": "code",
   "execution_count": null,
   "id": "a93f552f",
   "metadata": {},
   "outputs": [],
   "source": []
  }
 ],
 "metadata": {
  "kernelspec": {
   "display_name": "Python 3",
   "language": "python",
   "name": "python3"
  },
  "language_info": {
   "codemirror_mode": {
    "name": "ipython",
    "version": 3
   },
   "file_extension": ".py",
   "mimetype": "text/x-python",
   "name": "python",
   "nbconvert_exporter": "python",
   "pygments_lexer": "ipython3",
   "version": "3.8.8"
  }
 },
 "nbformat": 4,
 "nbformat_minor": 5
}
